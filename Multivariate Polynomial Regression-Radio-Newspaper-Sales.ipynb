{
 "cells": [
  {
   "cell_type": "code",
   "execution_count": 2,
   "id": "df7b9678",
   "metadata": {},
   "outputs": [],
   "source": [
    "import numpy as np\n",
    "import pandas  as pd\n",
    "import matplotlib.pyplot as plt\n",
    "from sklearn.model_selection import train_test_split\n",
    "from sklearn.linear_model import LinearRegression\n",
    "import seaborn as sns\n",
    "from sklearn.metrics import mean_squared_error, r2_score"
   ]
  },
  {
   "cell_type": "markdown",
   "id": "f66e68a9",
   "metadata": {},
   "source": [
    "# Loading Data Set"
   ]
  },
  {
   "cell_type": "code",
   "execution_count": 3,
   "id": "8eddb241",
   "metadata": {},
   "outputs": [],
   "source": [
    "# Loading the Dataset\n",
    "#data = pd.read_csv(r\"\\Users\\Muhammad\\Downloads\\Advertising.csv\")\n",
    "\n",
    "x_lst = list(range(0,100,2))\n",
    "#print(x)\n",
    "\n",
    "y_lst = list(i*i for i in x_lst)\n",
    "#print(y)\n",
    "\n"
   ]
  },
  {
   "cell_type": "code",
   "execution_count": 4,
   "id": "b8550572",
   "metadata": {},
   "outputs": [
    {
     "name": "stdout",
     "output_type": "stream",
     "text": [
      "     X     Y\n",
      "0    0     0\n",
      "1    2     4\n",
      "2    4    16\n",
      "3    6    36\n",
      "4    8    64\n",
      "5   10   100\n",
      "6   12   144\n",
      "7   14   196\n",
      "8   16   256\n",
      "9   18   324\n",
      "10  20   400\n",
      "11  22   484\n",
      "12  24   576\n",
      "13  26   676\n",
      "14  28   784\n",
      "15  30   900\n",
      "16  32  1024\n",
      "17  34  1156\n",
      "18  36  1296\n",
      "19  38  1444\n",
      "20  40  1600\n",
      "21  42  1764\n",
      "22  44  1936\n",
      "23  46  2116\n",
      "24  48  2304\n",
      "25  50  2500\n",
      "26  52  2704\n",
      "27  54  2916\n",
      "28  56  3136\n",
      "29  58  3364\n",
      "30  60  3600\n",
      "31  62  3844\n",
      "32  64  4096\n",
      "33  66  4356\n",
      "34  68  4624\n",
      "35  70  4900\n",
      "36  72  5184\n",
      "37  74  5476\n",
      "38  76  5776\n",
      "39  78  6084\n",
      "40  80  6400\n",
      "41  82  6724\n",
      "42  84  7056\n",
      "43  86  7396\n",
      "44  88  7744\n",
      "45  90  8100\n",
      "46  92  8464\n",
      "47  94  8836\n",
      "48  96  9216\n",
      "49  98  9604\n"
     ]
    }
   ],
   "source": [
    "# Calling DataFrame after zipping both lists, with columns specified \n",
    "df = pd.DataFrame(list(zip(x_lst, y_lst)), columns =['X', 'Y'])\n",
    "\n",
    "print(df)"
   ]
  },
  {
   "cell_type": "markdown",
   "id": "02c25cf5",
   "metadata": {},
   "source": [
    "# Looking into the Data set"
   ]
  },
  {
   "cell_type": "code",
   "execution_count": 5,
   "id": "9b1c0747",
   "metadata": {},
   "outputs": [
    {
     "data": {
      "text/html": [
       "<div>\n",
       "<style scoped>\n",
       "    .dataframe tbody tr th:only-of-type {\n",
       "        vertical-align: middle;\n",
       "    }\n",
       "\n",
       "    .dataframe tbody tr th {\n",
       "        vertical-align: top;\n",
       "    }\n",
       "\n",
       "    .dataframe thead th {\n",
       "        text-align: right;\n",
       "    }\n",
       "</style>\n",
       "<table border=\"1\" class=\"dataframe\">\n",
       "  <thead>\n",
       "    <tr style=\"text-align: right;\">\n",
       "      <th></th>\n",
       "      <th>X</th>\n",
       "      <th>Y</th>\n",
       "    </tr>\n",
       "  </thead>\n",
       "  <tbody>\n",
       "    <tr>\n",
       "      <th>0</th>\n",
       "      <td>0</td>\n",
       "      <td>0</td>\n",
       "    </tr>\n",
       "    <tr>\n",
       "      <th>1</th>\n",
       "      <td>2</td>\n",
       "      <td>4</td>\n",
       "    </tr>\n",
       "    <tr>\n",
       "      <th>2</th>\n",
       "      <td>4</td>\n",
       "      <td>16</td>\n",
       "    </tr>\n",
       "    <tr>\n",
       "      <th>3</th>\n",
       "      <td>6</td>\n",
       "      <td>36</td>\n",
       "    </tr>\n",
       "    <tr>\n",
       "      <th>4</th>\n",
       "      <td>8</td>\n",
       "      <td>64</td>\n",
       "    </tr>\n",
       "  </tbody>\n",
       "</table>\n",
       "</div>"
      ],
      "text/plain": [
       "   X   Y\n",
       "0  0   0\n",
       "1  2   4\n",
       "2  4  16\n",
       "3  6  36\n",
       "4  8  64"
      ]
     },
     "execution_count": 5,
     "metadata": {},
     "output_type": "execute_result"
    }
   ],
   "source": [
    "#data.head()\n",
    "df.head()"
   ]
  },
  {
   "cell_type": "code",
   "execution_count": 6,
   "id": "d2cead55",
   "metadata": {},
   "outputs": [
    {
     "data": {
      "text/html": [
       "<div>\n",
       "<style scoped>\n",
       "    .dataframe tbody tr th:only-of-type {\n",
       "        vertical-align: middle;\n",
       "    }\n",
       "\n",
       "    .dataframe tbody tr th {\n",
       "        vertical-align: top;\n",
       "    }\n",
       "\n",
       "    .dataframe thead th {\n",
       "        text-align: right;\n",
       "    }\n",
       "</style>\n",
       "<table border=\"1\" class=\"dataframe\">\n",
       "  <thead>\n",
       "    <tr style=\"text-align: right;\">\n",
       "      <th></th>\n",
       "      <th>X</th>\n",
       "      <th>Y</th>\n",
       "    </tr>\n",
       "  </thead>\n",
       "  <tbody>\n",
       "    <tr>\n",
       "      <th>45</th>\n",
       "      <td>90</td>\n",
       "      <td>8100</td>\n",
       "    </tr>\n",
       "    <tr>\n",
       "      <th>46</th>\n",
       "      <td>92</td>\n",
       "      <td>8464</td>\n",
       "    </tr>\n",
       "    <tr>\n",
       "      <th>47</th>\n",
       "      <td>94</td>\n",
       "      <td>8836</td>\n",
       "    </tr>\n",
       "    <tr>\n",
       "      <th>48</th>\n",
       "      <td>96</td>\n",
       "      <td>9216</td>\n",
       "    </tr>\n",
       "    <tr>\n",
       "      <th>49</th>\n",
       "      <td>98</td>\n",
       "      <td>9604</td>\n",
       "    </tr>\n",
       "  </tbody>\n",
       "</table>\n",
       "</div>"
      ],
      "text/plain": [
       "     X     Y\n",
       "45  90  8100\n",
       "46  92  8464\n",
       "47  94  8836\n",
       "48  96  9216\n",
       "49  98  9604"
      ]
     },
     "execution_count": 6,
     "metadata": {},
     "output_type": "execute_result"
    }
   ],
   "source": [
    "#data.tail()\n",
    "df.tail()"
   ]
  },
  {
   "cell_type": "code",
   "execution_count": 7,
   "id": "8d066a80",
   "metadata": {},
   "outputs": [
    {
     "data": {
      "text/plain": [
       "(50, 2)"
      ]
     },
     "execution_count": 7,
     "metadata": {},
     "output_type": "execute_result"
    }
   ],
   "source": [
    "df.shape"
   ]
  },
  {
   "cell_type": "markdown",
   "id": "bf4d99ec",
   "metadata": {},
   "source": [
    "# Exploring the data Analysis"
   ]
  },
  {
   "cell_type": "code",
   "execution_count": 8,
   "id": "e9d5d4c7",
   "metadata": {},
   "outputs": [
    {
     "data": {
      "text/html": [
       "<div>\n",
       "<style scoped>\n",
       "    .dataframe tbody tr th:only-of-type {\n",
       "        vertical-align: middle;\n",
       "    }\n",
       "\n",
       "    .dataframe tbody tr th {\n",
       "        vertical-align: top;\n",
       "    }\n",
       "\n",
       "    .dataframe thead th {\n",
       "        text-align: right;\n",
       "    }\n",
       "</style>\n",
       "<table border=\"1\" class=\"dataframe\">\n",
       "  <thead>\n",
       "    <tr style=\"text-align: right;\">\n",
       "      <th></th>\n",
       "      <th>X</th>\n",
       "      <th>Y</th>\n",
       "    </tr>\n",
       "  </thead>\n",
       "  <tbody>\n",
       "    <tr>\n",
       "      <th>count</th>\n",
       "      <td>50.000000</td>\n",
       "      <td>50.000000</td>\n",
       "    </tr>\n",
       "    <tr>\n",
       "      <th>mean</th>\n",
       "      <td>49.000000</td>\n",
       "      <td>3234.000000</td>\n",
       "    </tr>\n",
       "    <tr>\n",
       "      <th>std</th>\n",
       "      <td>29.154759</td>\n",
       "      <td>2954.515189</td>\n",
       "    </tr>\n",
       "    <tr>\n",
       "      <th>min</th>\n",
       "      <td>0.000000</td>\n",
       "      <td>0.000000</td>\n",
       "    </tr>\n",
       "    <tr>\n",
       "      <th>25%</th>\n",
       "      <td>24.500000</td>\n",
       "      <td>601.000000</td>\n",
       "    </tr>\n",
       "    <tr>\n",
       "      <th>50%</th>\n",
       "      <td>49.000000</td>\n",
       "      <td>2402.000000</td>\n",
       "    </tr>\n",
       "    <tr>\n",
       "      <th>75%</th>\n",
       "      <td>73.500000</td>\n",
       "      <td>5403.000000</td>\n",
       "    </tr>\n",
       "    <tr>\n",
       "      <th>max</th>\n",
       "      <td>98.000000</td>\n",
       "      <td>9604.000000</td>\n",
       "    </tr>\n",
       "  </tbody>\n",
       "</table>\n",
       "</div>"
      ],
      "text/plain": [
       "               X            Y\n",
       "count  50.000000    50.000000\n",
       "mean   49.000000  3234.000000\n",
       "std    29.154759  2954.515189\n",
       "min     0.000000     0.000000\n",
       "25%    24.500000   601.000000\n",
       "50%    49.000000  2402.000000\n",
       "75%    73.500000  5403.000000\n",
       "max    98.000000  9604.000000"
      ]
     },
     "execution_count": 8,
     "metadata": {},
     "output_type": "execute_result"
    }
   ],
   "source": [
    "df.describe() # returns dtaframe containing basic statics"
   ]
  },
  {
   "cell_type": "code",
   "execution_count": 9,
   "id": "3ef05d36",
   "metadata": {},
   "outputs": [
    {
     "name": "stdout",
     "output_type": "stream",
     "text": [
      "<class 'pandas.core.frame.DataFrame'>\n",
      "RangeIndex: 50 entries, 0 to 49\n",
      "Data columns (total 2 columns):\n",
      " #   Column  Non-Null Count  Dtype\n",
      "---  ------  --------------  -----\n",
      " 0   X       50 non-null     int64\n",
      " 1   Y       50 non-null     int64\n",
      "dtypes: int64(2)\n",
      "memory usage: 932.0 bytes\n"
     ]
    }
   ],
   "source": [
    "df.info()"
   ]
  },
  {
   "cell_type": "code",
   "execution_count": null,
   "id": "b4499eb4",
   "metadata": {},
   "outputs": [],
   "source": [
    "#sns.pairplot??"
   ]
  },
  {
   "cell_type": "code",
   "execution_count": 10,
   "id": "fffafd82",
   "metadata": {},
   "outputs": [
    {
     "data": {
      "image/png": "[encoded data removed]",
      "text/plain": [
       "<Figure size 250x250 with 1 Axes>"
      ]
     },
     "metadata": {},
     "output_type": "display_data"
    }
   ],
   "source": [
    "sns.pairplot(df, x_vars='X', y_vars='Y', kind='scatter')\n",
    "plt.show()"
   ]
  },
  {
   "cell_type": "code",
   "execution_count": 11,
   "id": "2bf8a33e",
   "metadata": {},
   "outputs": [
    {
     "data": {
      "text/html": [
       "<div>\n",
       "<style scoped>\n",
       "    .dataframe tbody tr th:only-of-type {\n",
       "        vertical-align: middle;\n",
       "    }\n",
       "\n",
       "    .dataframe tbody tr th {\n",
       "        vertical-align: top;\n",
       "    }\n",
       "\n",
       "    .dataframe thead th {\n",
       "        text-align: right;\n",
       "    }\n",
       "</style>\n",
       "<table border=\"1\" class=\"dataframe\">\n",
       "  <thead>\n",
       "    <tr style=\"text-align: right;\">\n",
       "      <th></th>\n",
       "      <th>X</th>\n",
       "      <th>Y</th>\n",
       "    </tr>\n",
       "  </thead>\n",
       "  <tbody>\n",
       "    <tr>\n",
       "      <th>X</th>\n",
       "      <td>1.000000</td>\n",
       "      <td>0.967051</td>\n",
       "    </tr>\n",
       "    <tr>\n",
       "      <th>Y</th>\n",
       "      <td>0.967051</td>\n",
       "      <td>1.000000</td>\n",
       "    </tr>\n",
       "  </tbody>\n",
       "</table>\n",
       "</div>"
      ],
      "text/plain": [
       "          X         Y\n",
       "X  1.000000  0.967051\n",
       "Y  0.967051  1.000000"
      ]
     },
     "execution_count": 11,
     "metadata": {},
     "output_type": "execute_result"
    }
   ],
   "source": [
    "df.corr()"
   ]
  },
  {
   "cell_type": "markdown",
   "id": "5d1f5e4d",
   "metadata": {},
   "source": [
    "# Dataset preperation for the Polynomial regression modeling"
   ]
  },
  {
   "cell_type": "code",
   "execution_count": 12,
   "id": "a1c8f914",
   "metadata": {},
   "outputs": [],
   "source": [
    "X=df['X'].values.reshape(-1,1)\n",
    "Y=df['Y'].values.reshape(-1,1)"
   ]
  },
  {
   "cell_type": "code",
   "execution_count": 13,
   "id": "2492338f",
   "metadata": {},
   "outputs": [
    {
     "data": {
      "text/plain": [
       "numpy.ndarray"
      ]
     },
     "execution_count": 13,
     "metadata": {},
     "output_type": "execute_result"
    }
   ],
   "source": [
    "type(X)"
   ]
  },
  {
   "cell_type": "code",
   "execution_count": 14,
   "id": "2862e014",
   "metadata": {},
   "outputs": [
    {
     "data": {
      "text/plain": [
       "(50, 1)"
      ]
     },
     "execution_count": 14,
     "metadata": {},
     "output_type": "execute_result"
    }
   ],
   "source": [
    "X.shape"
   ]
  },
  {
   "cell_type": "code",
   "execution_count": 15,
   "id": "82285990",
   "metadata": {},
   "outputs": [],
   "source": [
    "X_train, X_test, y_train, y_test = train_test_split(X, Y, test_size=0.3, random_state=100)"
   ]
  },
  {
   "cell_type": "code",
   "execution_count": 16,
   "id": "0b1e8c15",
   "metadata": {},
   "outputs": [
    {
     "data": {
      "text/plain": [
       "(35, 1)"
      ]
     },
     "execution_count": 16,
     "metadata": {},
     "output_type": "execute_result"
    }
   ],
   "source": [
    "X_train.shape"
   ]
  },
  {
   "cell_type": "markdown",
   "id": "d0fd8a88",
   "metadata": {},
   "source": [
    "# Polynomial Regression Curve Fitting"
   ]
  },
  {
   "cell_type": "code",
   "execution_count": 27,
   "id": "25fa7611",
   "metadata": {},
   "outputs": [],
   "source": [
    "from sklearn.preprocessing import PolynomialFeatures\n",
    "poly_f = PolynomialFeatures(degree=2)\n",
    "X_train_poly = poly_f.fit_transform(X_train)\n",
    "X_test_poly = poly_f.fit_transform(X_test)\n",
    "pol_reg = LinearRegression()\n",
    "pol_reg.fit(X_train_poly, y_train)\n",
    "predicted = pol_reg.predict(X_test_poly)"
   ]
  },
  {
   "cell_type": "markdown",
   "id": "16687c0a",
   "metadata": {},
   "source": [
    "# Evaluation on Training Data X with Pridiction"
   ]
  },
  {
   "cell_type": "code",
   "execution_count": 28,
   "id": "f1d82514",
   "metadata": {},
   "outputs": [
    {
     "name": "stdout",
     "output_type": "stream",
     "text": [
      " The Mean Absolute Error= 1.6096161440752136e-12, and Mean Squared Error= 3.321283640178126e-24\n"
     ]
    }
   ],
   "source": [
    "from sklearn.metrics import mean_absolute_error, mean_squared_error\n",
    "Poly_MAE=mean_absolute_error(y_test, predicted)\n",
    "Poly_mse = mean_squared_error(y_test, predicted)\n",
    "print(f\" The Mean Absolute Error= {MAE}, and Mean Squared Error= {mse}\")"
   ]
  },
  {
   "cell_type": "markdown",
   "id": "362087a5",
   "metadata": {},
   "source": [
    "# Linear Regression Curve Fitting "
   ]
  },
  {
   "cell_type": "code",
   "execution_count": 29,
   "id": "4632aa05",
   "metadata": {},
   "outputs": [],
   "source": [
    "from sklearn.preprocessing import PolynomialFeatures\n",
    "poly_f = PolynomialFeatures(degree=1)\n",
    "X_train_poly = poly_f.fit_transform(X_train)\n",
    "X_test_poly = poly_f.fit_transform(X_test)\n",
    "pol_reg = LinearRegression()\n",
    "pol_reg.fit(X_train_poly, y_train)\n",
    "predicted = pol_reg.predict(X_test_poly)"
   ]
  },
  {
   "cell_type": "markdown",
   "id": "b7590307",
   "metadata": {},
   "source": [
    "# Evaluation on Training Data X with Pridiction Linear Regression"
   ]
  },
  {
   "cell_type": "code",
   "execution_count": 30,
   "id": "afcd68c1",
   "metadata": {},
   "outputs": [
    {
     "name": "stdout",
     "output_type": "stream",
     "text": [
      " The Mean Absolute Error= 634.25135938692, and Mean Squared Error= 629838.7128817167\n"
     ]
    }
   ],
   "source": [
    "from sklearn.metrics import mean_absolute_error, mean_squared_error\n",
    "MAE=mean_absolute_error(y_test, predicted)\n",
    "mse = mean_squared_error(y_test, predicted)\n",
    "print(f\" The Mean Absolute Error= {MAE}, and Mean Squared Error= {mse}\")"
   ]
  },
  {
   "cell_type": "markdown",
   "id": "3b612cd6",
   "metadata": {},
   "source": [
    "# Plotting"
   ]
  },
  {
   "cell_type": "code",
   "execution_count": 37,
   "id": "ed3c0328",
   "metadata": {},
   "outputs": [
    {
     "data": {
      "image/png": "[encoded data removed]",
      "text/plain": [
       "<Figure size 640x480 with 1 Axes>"
      ]
     },
     "metadata": {},
     "output_type": "display_data"
    }
   ],
   "source": [
    "#plt.scatter(X,Y, s=50, alpha=0.5, label='Data')\n",
    "plt.plot(X, Y, color='green', label=f'Polynomial Reg, MAE={float(Poly_MAE)} mse={float(Poly_mse)}')\n",
    "plt.plot(X_test, predicted, color='blue', label=f'Linear Reg, MAE={float(MAE)} mse={float(mse)}')\n",
    "plt.xlabel('X')\n",
    "plt.ylabel('Y')\n",
    "plt.legend()\n",
    "plt.suptitle('Dr. Muhammad Nasir')\n",
    "plt.show()"
   ]
  },
  {
   "cell_type": "markdown",
   "id": "f2a3c483",
   "metadata": {},
   "source": [
    "# Conclusion"
   ]
  },
  {
   "cell_type": "markdown",
   "id": "e77fc1e5",
   "metadata": {},
   "source": [
    "In this case study, we developed a customized dataset that has exponential values of output variable 'Y'\n",
    "for input variable 'X'. \n",
    "\n",
    "X = [0, 1, 2, 3, ....., 100]\n",
    "X = [0, 1, 4, 9, ....., 10000]\n",
    "\n",
    "We plotted the exponantional data using uni-variate linear regression as well as with uni-variate ploynomial\n",
    "regression. The results show that linear regression doesn't give good results for polynomial/exponential data.\n",
    "\n",
    "Linear Regression Results:\n",
    "----------------------------------------\n",
    "The Mean Absolute Error= 634.25135938692, and Mean Squared Error= 629838.7128817167\n",
    "\n",
    "\n",
    "Polynomial Regression Results:\n",
    "-----------------------------------------\n",
    "The Mean Absolute Error= 1.6096161440752136e-12, and Mean Squared Error= 3.321283640178126e-24\n",
    "\n",
    "The results of Mean Absolute Error and Mean Squared Error are good for Polynomial Regression.\n"
   ]
  }
 ],
 "metadata": {
  "kernelspec": {
   "display_name": "Python 3 (ipykernel)",
   "language": "python",
   "name": "python3"
  },
  "language_info": {
   "codemirror_mode": {
    "name": "ipython",
    "version": 3
   },
   "file_extension": ".py",
   "mimetype": "text/x-python",
   "name": "python",
   "nbconvert_exporter": "python",
   "pygments_lexer": "ipython3",
   "version": "3.11.3"
  }
 },
 "nbformat": 4,
 "nbformat_minor": 5
}
